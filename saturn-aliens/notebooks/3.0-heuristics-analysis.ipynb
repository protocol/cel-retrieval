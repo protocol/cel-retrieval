{
 "cells": [
  {
   "cell_type": "markdown",
   "id": "5313a46a-b7f7-4936-aa82-8c3f0e6ddd72",
   "metadata": {},
   "source": [
    "# Saturn aliens - Heuristics to detect anomalous retrieval logs\n",
    "### Maria Silva, August 2022\n",
    "\n",
    "In this notebook, we design some heuristics to detect anomalous retrievals in Saturn logs using historical data from verified logs.\n",
    "\n",
    "\n",
    "**Note on reproducibility:**\n",
    "\n",
    "The data used to run this notebook was queried from Saturn's internal systems. We are not able to share externally due to privacy concerns and the sensitivity of the final tuning of the heuristics.\n",
    "\n",
    "Even though we are not sharing the final thresholds, by sharing the code, we aim to demonstrate the process and reasoning behind Saturn's logs detection system.\n",
    "\n",
    "***\n"
   ]
  },
  {
   "cell_type": "code",
   "execution_count": null,
   "id": "a3d0d834-0ec8-4060-8ed1-fb858f99cd67",
   "metadata": {},
   "outputs": [],
   "source": [
    "import os\n",
    "import numpy as np\n",
    "import pandas as pd\n",
    "import datetime\n",
    "import scipy.stats as st\n",
    "import statsmodels.api as sm\n",
    "from scipy.stats._continuous_distns import _distn_names\n",
    "import seaborn as sns\n",
    "import matplotlib.pyplot as plt\n",
    "\n",
    "import warnings\n",
    "warnings.filterwarnings('ignore')"
   ]
  },
  {
   "cell_type": "markdown",
   "id": "16e6825b-764c-4bc2-b688-bc4371772479",
   "metadata": {},
   "source": [
    "## 1. Load data"
   ]
  },
  {
   "cell_type": "code",
   "execution_count": null,
   "id": "f5542813-b35f-489c-ab54-f499a2453e20",
   "metadata": {},
   "outputs": [],
   "source": [
    "file = os.path.abspath(\"../../../../Data/Saturn/bandwidth_logs_jul_05.csv\")\n",
    "raw_df = pd.read_csv(file)\n",
    "\n",
    "df = raw_df.dropna()\n",
    "df[\"start_time\"] = pd.to_datetime(df[\"start_time\"])\n",
    "df[\"mb_sent\"] = df[\"num_bytes_sent\"]/(2**20)\n",
    "\n",
    "df.info()"
   ]
  },
  {
   "cell_type": "markdown",
   "id": "e68f7051-7fe6-4788-8c1f-e6e86c4ce2d3",
   "metadata": {},
   "source": [
    "## 2. Fit distributions and set thresholds\n",
    "\n",
    "### Auxiliary functions"
   ]
  },
  {
   "cell_type": "code",
   "execution_count": null,
   "id": "d90aa855-e657-4b25-ac87-a61bce8780d9",
   "metadata": {},
   "outputs": [],
   "source": [
    "def best_fit_distribution(data, bins=200):\n",
    "    \"\"\"Model data by finding best fit distribution to data\"\"\"\n",
    "    # Get histogram of original data\n",
    "    y, x = np.histogram(data, bins=bins, density=True)\n",
    "    x = (x + np.roll(x, -1))[:-1] / 2.0\n",
    "    # Best holders\n",
    "    best_distributions = []\n",
    "    # Estimate distribution parameters from data\n",
    "    for ii, distribution in enumerate([d for d in _distn_names if not d in ['levy_stable', 'studentized_range']]):\n",
    "        distribution = getattr(st, distribution)\n",
    "        # Try to fit the distribution\n",
    "        try:\n",
    "            # Ignore warnings from data that can't be fit\n",
    "            with warnings.catch_warnings():\n",
    "                warnings.filterwarnings('ignore')\n",
    "                # fit dist to data\n",
    "                params = distribution.fit(data)\n",
    "                # Separate parts of parameters\n",
    "                arg = params[:-2]\n",
    "                loc = params[-2]\n",
    "                scale = params[-1]\n",
    "                # Calculate fitted PDF and error with fit in distribution\n",
    "                pdf = distribution.pdf(x, loc=loc, scale=scale, *arg)\n",
    "                sse = np.sum(np.power(y - pdf, 2.0))\n",
    "                # identify if this distribution is better\n",
    "                best_distributions.append((distribution, params, sse))\n",
    "        except Exception:\n",
    "            pass\n",
    "    return sorted(best_distributions, key=lambda x:x[2])\n",
    "\n",
    "\n",
    "def make_pdf(dist, params, size=1000):\n",
    "    \"\"\"Generate distributions's Probability Distribution Function \"\"\"\n",
    "    # Separate parts of parameters\n",
    "    arg = params[:-2]\n",
    "    loc = params[-2]\n",
    "    scale = params[-1]\n",
    "    # Get sane start and end points of distribution\n",
    "    start = dist.ppf(0.01, *arg, loc=loc, scale=scale) if arg else dist.ppf(0.01, loc=loc, scale=scale)\n",
    "    end = dist.ppf(0.99, *arg, loc=loc, scale=scale) if arg else dist.ppf(0.99, loc=loc, scale=scale)\n",
    "    # Build PDF and turn into pandas Series\n",
    "    x = np.linspace(start, end, size)\n",
    "    y = dist.pdf(x, loc=loc, scale=scale, *arg)\n",
    "    pdf = pd.Series(y, x)\n",
    "    return pdf"
   ]
  },
  {
   "cell_type": "markdown",
   "id": "934da614-7432-4aba-ae0b-cf733d871355",
   "metadata": {},
   "source": [
    "### Heuristic 1: High request count\n",
    "\n",
    "* **Level:** operator\n",
    "* **Description:** Flag operators with a total number of requests higher than a threshold\n",
    "* **Reasoning:** Operators may inject fake logs to bump their rewards. This rule catches operators that inject a massive number of requests"
   ]
  },
  {
   "cell_type": "code",
   "execution_count": null,
   "id": "72894abc-b065-4353-bf84-df3d97924432",
   "metadata": {},
   "outputs": [],
   "source": [
    "requests_per_node = df.groupby(\"node_id\")[\"request_id\"].nunique().sort_values(ascending=False)\n",
    "\n",
    "# Find best fit distribution\n",
    "best_distibutions = best_fit_distribution(requests_per_node.values, bins=30)\n",
    "best_dist = best_distibutions[0]\n",
    "\n",
    "# Make PDF with best params \n",
    "pdf = make_pdf(best_dist[0], best_dist[1])\n",
    "\n",
    "# Display\n",
    "plt.figure(figsize=(8,5))\n",
    "ax = pdf.plot(lw=2, label='PDF', legend=True)\n",
    "requests_per_node.plot(kind='hist', bins=50, density=True, alpha=0.5, label='Data', legend=True, ax=ax)\n",
    "param_names = (best_dist[0].shapes + ', loc, scale').split(', ') if best_dist[0].shapes else ['loc', 'scale']\n",
    "param_str = ', '.join(['{}={:0.2f}'.format(k,v) for k,v in zip(param_names, best_dist[1])])\n",
    "dist_str = '{}({})'.format(best_dist[0].name, param_str)\n",
    "plt.title(\"Requests per node distribution\\n\"+ dist_str)\n",
    "plt.show()"
   ]
  },
  {
   "cell_type": "code",
   "execution_count": null,
   "id": "4bea0697-f917-4a8e-8379-cd8b928c766b",
   "metadata": {},
   "outputs": [],
   "source": []
  }
 ],
 "metadata": {
  "kernelspec": {
   "display_name": "Python 3 (ipykernel)",
   "language": "python",
   "name": "python3"
  },
  "language_info": {
   "codemirror_mode": {
    "name": "ipython",
    "version": 3
   },
   "file_extension": ".py",
   "mimetype": "text/x-python",
   "name": "python",
   "nbconvert_exporter": "python",
   "pygments_lexer": "ipython3",
   "version": "3.8.13"
  }
 },
 "nbformat": 4,
 "nbformat_minor": 5
}
